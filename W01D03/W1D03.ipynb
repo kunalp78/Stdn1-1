{
 "cells": [
  {
   "cell_type": "code",
   "execution_count": 1,
   "id": "ebb9e875-801d-401e-841a-6deed0fcf296",
   "metadata": {},
   "outputs": [
    {
     "data": {
      "text/plain": [
       "dict"
      ]
     },
     "execution_count": 1,
     "metadata": {},
     "output_type": "execute_result"
    }
   ],
   "source": [
    "type({})"
   ]
  },
  {
   "cell_type": "code",
   "execution_count": 2,
   "id": "912313ee-8b6e-41c2-aadc-e9f2aa2441b9",
   "metadata": {},
   "outputs": [],
   "source": [
    "d = {}"
   ]
  },
  {
   "cell_type": "code",
   "execution_count": 3,
   "id": "73ad8ac7-5fa0-4341-9b3c-15b40fe1cab3",
   "metadata": {},
   "outputs": [
    {
     "data": {
      "text/plain": [
       "dict"
      ]
     },
     "execution_count": 3,
     "metadata": {},
     "output_type": "execute_result"
    }
   ],
   "source": [
    "type(d)"
   ]
  },
  {
   "cell_type": "code",
   "execution_count": 4,
   "id": "bd2e474c-3994-4aec-9e97-9d486f529fc7",
   "metadata": {},
   "outputs": [],
   "source": [
    "d = {5: [\"number\"], \"word\": 59}"
   ]
  },
  {
   "cell_type": "code",
   "execution_count": 5,
   "id": "63663356-5779-4afe-97bf-12daf634a708",
   "metadata": {},
   "outputs": [
    {
     "name": "stdout",
     "output_type": "stream",
     "text": [
      "{5: ['number'], 'word': 59}\n"
     ]
    }
   ],
   "source": [
    "print(d)"
   ]
  },
  {
   "cell_type": "code",
   "execution_count": 14,
   "id": "0c07e2f7-d0bc-4a73-a8e2-89314152e4dc",
   "metadata": {},
   "outputs": [],
   "source": [
    "# Dictionary is a mutable data type ie it is changalble\n",
    "# Its and ordered collection\n",
    "# the keys of dictionary has to be an immutable(non changeable) data type"
   ]
  },
  {
   "cell_type": "code",
   "execution_count": 7,
   "id": "ff33e17d-62b7-47b1-b0cc-312b30987d98",
   "metadata": {},
   "outputs": [
    {
     "ename": "TypeError",
     "evalue": "unhashable type: 'list'",
     "output_type": "error",
     "traceback": [
      "\u001b[1;31m---------------------------------------------------------------------------\u001b[0m",
      "\u001b[1;31mTypeError\u001b[0m                                 Traceback (most recent call last)",
      "Cell \u001b[1;32mIn[7], line 1\u001b[0m\n\u001b[1;32m----> 1\u001b[0m d \u001b[38;5;241m=\u001b[39m {[\u001b[38;5;241m5\u001b[39m,\u001b[38;5;241m9\u001b[39m]: \u001b[38;5;124m\"\u001b[39m\u001b[38;5;124mvalue\u001b[39m\u001b[38;5;124m\"\u001b[39m} \n\u001b[0;32m      2\u001b[0m \u001b[38;5;66;03m# key --> [5,9]\u001b[39;00m\n\u001b[0;32m      3\u001b[0m \u001b[38;5;66;03m# value --> \"value\"\u001b[39;00m\n",
      "\u001b[1;31mTypeError\u001b[0m: unhashable type: 'list'"
     ]
    }
   ],
   "source": [
    "d = {[5,9]: \"value\"} \n",
    "# key --> [5,9]\n",
    "# value --> \"value\""
   ]
  },
  {
   "cell_type": "code",
   "execution_count": 8,
   "id": "5b27af2c-293b-486c-80c1-2458b468f1b1",
   "metadata": {},
   "outputs": [],
   "source": [
    "d = {(5,9): \"key\"}\n",
    "# key --> (5, 9) --> tuple\n",
    "# value --> \"key\""
   ]
  },
  {
   "cell_type": "code",
   "execution_count": 9,
   "id": "e6d00778-4748-416b-b95d-cadfb2be2f26",
   "metadata": {},
   "outputs": [
    {
     "name": "stdout",
     "output_type": "stream",
     "text": [
      "{(5, 9): 'key'}\n"
     ]
    }
   ],
   "source": [
    "print(d)"
   ]
  },
  {
   "cell_type": "markdown",
   "id": "9ad8729f-88f9-49c0-b5bd-f070e1798149",
   "metadata": {},
   "source": [
    "# Set"
   ]
  },
  {
   "cell_type": "code",
   "execution_count": 17,
   "id": "204e945c-d541-484f-8c9a-a19e9103efc3",
   "metadata": {},
   "outputs": [],
   "source": [
    "# set is a collection of keys(keys are immutable)\n",
    "# set is a mutable(changeable)"
   ]
  },
  {
   "cell_type": "code",
   "execution_count": 15,
   "id": "2b4d643e-fdd2-4cf6-925c-549ed3ec25d2",
   "metadata": {},
   "outputs": [],
   "source": [
    "s = set()"
   ]
  },
  {
   "cell_type": "code",
   "execution_count": 16,
   "id": "5bbaaa64-292a-4f2d-9094-40bb7fb58dc6",
   "metadata": {},
   "outputs": [],
   "source": [
    "s = {5, 4, \"pratibha\"}"
   ]
  },
  {
   "cell_type": "code",
   "execution_count": 18,
   "id": "c66bb269-4c38-4cbc-8ec8-190cf956838d",
   "metadata": {},
   "outputs": [
    {
     "ename": "TypeError",
     "evalue": "unhashable type: 'list'",
     "output_type": "error",
     "traceback": [
      "\u001b[1;31m---------------------------------------------------------------------------\u001b[0m",
      "\u001b[1;31mTypeError\u001b[0m                                 Traceback (most recent call last)",
      "Cell \u001b[1;32mIn[18], line 1\u001b[0m\n\u001b[1;32m----> 1\u001b[0m s \u001b[38;5;241m=\u001b[39m {[\u001b[38;5;241m1\u001b[39m, \u001b[38;5;241m2\u001b[39m, \u001b[38;5;124m\"\u001b[39m\u001b[38;5;124mp\u001b[39m\u001b[38;5;124m\"\u001b[39m], \u001b[38;5;241m5\u001b[39m, \u001b[38;5;124m\"\u001b[39m\u001b[38;5;124ma\u001b[39m\u001b[38;5;124m\"\u001b[39m}\n",
      "\u001b[1;31mTypeError\u001b[0m: unhashable type: 'list'"
     ]
    }
   ],
   "source": [
    "s = {[1, 2, \"p\"], 5, \"a\"}"
   ]
  },
  {
   "cell_type": "code",
   "execution_count": 19,
   "id": "c626fd96-b779-4236-9a9a-1483876add9c",
   "metadata": {},
   "outputs": [],
   "source": [
    "# HW: Experiment with operators"
   ]
  },
  {
   "cell_type": "code",
   "execution_count": null,
   "id": "0b327089-ab3c-435d-89df-62c2b16f48b6",
   "metadata": {},
   "outputs": [],
   "source": []
  }
 ],
 "metadata": {
  "kernelspec": {
   "display_name": "Python 3 (ipykernel)",
   "language": "python",
   "name": "python3"
  },
  "language_info": {
   "codemirror_mode": {
    "name": "ipython",
    "version": 3
   },
   "file_extension": ".py",
   "mimetype": "text/x-python",
   "name": "python",
   "nbconvert_exporter": "python",
   "pygments_lexer": "ipython3",
   "version": "3.13.1"
  }
 },
 "nbformat": 4,
 "nbformat_minor": 5
}
