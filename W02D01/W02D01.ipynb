{
 "cells": [
  {
   "cell_type": "markdown",
   "id": "d1eba4cd-38a5-4e4e-968f-2b853d197876",
   "metadata": {},
   "source": [
    "# Strings"
   ]
  },
  {
   "cell_type": "code",
   "execution_count": 1,
   "id": "dde31ffd-0825-45bb-9e54-4ea0f4447656",
   "metadata": {},
   "outputs": [],
   "source": [
    "s = \"abcdfgeh\""
   ]
  },
  {
   "cell_type": "code",
   "execution_count": 2,
   "id": "3cc9452b-d875-46ae-a25e-e4e02a014c4e",
   "metadata": {},
   "outputs": [],
   "source": [
    "# indexing\n",
    "# indexing is the position assignment of the character\n",
    "# It always starts from in python"
   ]
  },
  {
   "cell_type": "code",
   "execution_count": null,
   "id": "50169370-0e28-4d53-8ba2-93ce25a5d7fa",
   "metadata": {},
   "outputs": [],
   "source": [
    "a b c d f g e h\n",
    "0 1 2 3 4 5 6 7"
   ]
  },
  {
   "cell_type": "code",
   "execution_count": 3,
   "id": "3459f667-f4d5-42b3-b611-242929c43aee",
   "metadata": {},
   "outputs": [
    {
     "data": {
      "text/plain": [
       "'d'"
      ]
     },
     "execution_count": 3,
     "metadata": {},
     "output_type": "execute_result"
    }
   ],
   "source": [
    "s[3]"
   ]
  },
  {
   "cell_type": "code",
   "execution_count": 4,
   "id": "ba5d4c0a-3d43-4392-a73a-e4abfb197437",
   "metadata": {},
   "outputs": [
    {
     "data": {
      "text/plain": [
       "8"
      ]
     },
     "execution_count": 4,
     "metadata": {},
     "output_type": "execute_result"
    }
   ],
   "source": [
    "# length of the string s: 8\n",
    "len(s)"
   ]
  },
  {
   "cell_type": "code",
   "execution_count": 5,
   "id": "8842d59d-7ac4-45db-b158-417b51407e89",
   "metadata": {},
   "outputs": [
    {
     "data": {
      "text/plain": [
       "'h'"
      ]
     },
     "execution_count": 5,
     "metadata": {},
     "output_type": "execute_result"
    }
   ],
   "source": [
    "s[len(s)-1]"
   ]
  },
  {
   "cell_type": "code",
   "execution_count": 6,
   "id": "3c8a6158-b68f-4455-a9e7-3ba9812f1452",
   "metadata": {},
   "outputs": [],
   "source": [
    "# negative indexing"
   ]
  },
  {
   "cell_type": "code",
   "execution_count": 7,
   "id": "3243180f-5f83-4069-9d3f-8203add7d078",
   "metadata": {},
   "outputs": [
    {
     "data": {
      "text/plain": [
       "'h'"
      ]
     },
     "execution_count": 7,
     "metadata": {},
     "output_type": "execute_result"
    }
   ],
   "source": [
    "s[-1] #??"
   ]
  },
  {
   "cell_type": "code",
   "execution_count": null,
   "id": "18bfe265-5abc-4438-a20e-c802260eba23",
   "metadata": {},
   "outputs": [],
   "source": [
    "a  b  c  d  f  g  e  h\n",
    "0  1  2  3  4  5  6  7\n",
    "-8 -7 -6 -5 -4 -3 -2 -1"
   ]
  },
  {
   "cell_type": "code",
   "execution_count": 8,
   "id": "cc47abfd-f090-49e2-b9c4-5405b743646d",
   "metadata": {},
   "outputs": [],
   "source": [
    "s =\"sksifjbdigbewijkbs uisdjkcbsdchsbdsbjhcbsjb\""
   ]
  },
  {
   "cell_type": "code",
   "execution_count": 9,
   "id": "666c90af-67d4-4a0b-a46e-d23862304a1e",
   "metadata": {},
   "outputs": [
    {
     "data": {
      "text/plain": [
       "'b'"
      ]
     },
     "execution_count": 9,
     "metadata": {},
     "output_type": "execute_result"
    }
   ],
   "source": [
    "s[len(s)-1]"
   ]
  },
  {
   "cell_type": "code",
   "execution_count": 10,
   "id": "d190d56b-47b6-41af-924e-eb29c2f4a964",
   "metadata": {},
   "outputs": [
    {
     "data": {
      "text/plain": [
       "'b'"
      ]
     },
     "execution_count": 10,
     "metadata": {},
     "output_type": "execute_result"
    }
   ],
   "source": [
    "s[-1]"
   ]
  },
  {
   "cell_type": "code",
   "execution_count": 11,
   "id": "7a676abd-b65b-44ed-b511-2eb89f5358c2",
   "metadata": {},
   "outputs": [],
   "source": [
    "# slicing"
   ]
  },
  {
   "cell_type": "code",
   "execution_count": 12,
   "id": "f8822f40-630d-4561-bdea-8fee4f3feaee",
   "metadata": {},
   "outputs": [
    {
     "data": {
      "text/plain": [
       "'a'"
      ]
     },
     "execution_count": 12,
     "metadata": {},
     "output_type": "execute_result"
    }
   ],
   "source": [
    "st = \"I am doremon\"\n",
    "st[2]"
   ]
  },
  {
   "cell_type": "code",
   "execution_count": 13,
   "id": "0bf77129-7b80-4d8d-af08-13f66a9f273e",
   "metadata": {},
   "outputs": [
    {
     "data": {
      "text/plain": [
       "9"
      ]
     },
     "execution_count": 13,
     "metadata": {},
     "output_type": "execute_result"
    }
   ],
   "source": [
    "st = \"abcdefghij\"\n",
    "st.index(\"j\")"
   ]
  },
  {
   "cell_type": "code",
   "execution_count": 15,
   "id": "233774b5-1dd8-4a39-bc53-59ca0c755f57",
   "metadata": {},
   "outputs": [
    {
     "data": {
      "text/plain": [
       "'abcd'"
      ]
     },
     "execution_count": 15,
     "metadata": {},
     "output_type": "execute_result"
    }
   ],
   "source": [
    "st[0:4]"
   ]
  },
  {
   "cell_type": "code",
   "execution_count": 16,
   "id": "28830385-3608-4729-97d7-acc09f490b6d",
   "metadata": {},
   "outputs": [
    {
     "data": {
      "text/plain": [
       "'abc'"
      ]
     },
     "execution_count": 16,
     "metadata": {},
     "output_type": "execute_result"
    }
   ],
   "source": [
    "st[0:3]"
   ]
  },
  {
   "cell_type": "code",
   "execution_count": null,
   "id": "8ced19a5-4645-4dd8-9f31-dcb4b60d3e11",
   "metadata": {},
   "outputs": [],
   "source": [
    "var[start index: end index + 1]\n",
    "default start index = 0\n",
    "default end index = length string"
   ]
  },
  {
   "cell_type": "code",
   "execution_count": 17,
   "id": "cdcd02b1-d0c1-4045-a13a-957a92fa4dac",
   "metadata": {},
   "outputs": [
    {
     "data": {
      "text/plain": [
       "'abcdefghij'"
      ]
     },
     "execution_count": 17,
     "metadata": {},
     "output_type": "execute_result"
    }
   ],
   "source": [
    "st[0:10]"
   ]
  },
  {
   "cell_type": "code",
   "execution_count": 18,
   "id": "ff44d05b-447a-40a2-9e70-1cdc087007f2",
   "metadata": {},
   "outputs": [
    {
     "data": {
      "text/plain": [
       "'abcdefghij'"
      ]
     },
     "execution_count": 18,
     "metadata": {},
     "output_type": "execute_result"
    }
   ],
   "source": [
    "st[0:]"
   ]
  },
  {
   "cell_type": "code",
   "execution_count": 19,
   "id": "2d9712cd-1ba5-449a-abd9-e33226daec6b",
   "metadata": {},
   "outputs": [
    {
     "data": {
      "text/plain": [
       "'abcdefghi'"
      ]
     },
     "execution_count": 19,
     "metadata": {},
     "output_type": "execute_result"
    }
   ],
   "source": [
    "st[:9]"
   ]
  },
  {
   "cell_type": "code",
   "execution_count": 20,
   "id": "cbf337a5-45af-448c-88a5-ba9b10bdc330",
   "metadata": {},
   "outputs": [
    {
     "data": {
      "text/plain": [
       "'abcd'"
      ]
     },
     "execution_count": 20,
     "metadata": {},
     "output_type": "execute_result"
    }
   ],
   "source": [
    "st[:4]"
   ]
  },
  {
   "cell_type": "code",
   "execution_count": 21,
   "id": "5fe01280-efc2-47e7-a9b6-3a231bcaa39b",
   "metadata": {},
   "outputs": [
    {
     "data": {
      "text/plain": [
       "'fghij'"
      ]
     },
     "execution_count": 21,
     "metadata": {},
     "output_type": "execute_result"
    }
   ],
   "source": [
    "st[5:]"
   ]
  },
  {
   "cell_type": "code",
   "execution_count": 22,
   "id": "2b034c71-aeb1-43f1-a07f-a776ca78970a",
   "metadata": {},
   "outputs": [
    {
     "data": {
      "text/plain": [
       "'cde'"
      ]
     },
     "execution_count": 22,
     "metadata": {},
     "output_type": "execute_result"
    }
   ],
   "source": [
    "st[2:5]"
   ]
  },
  {
   "cell_type": "code",
   "execution_count": 23,
   "id": "a6ded99b-8db9-4945-bff4-04e21ef65fd3",
   "metadata": {},
   "outputs": [
    {
     "data": {
      "text/plain": [
       "'abcdefghij'"
      ]
     },
     "execution_count": 23,
     "metadata": {},
     "output_type": "execute_result"
    }
   ],
   "source": [
    "st[:100]"
   ]
  },
  {
   "cell_type": "code",
   "execution_count": 24,
   "id": "c5d4fd39-d649-4995-8e63-efab3112fdc5",
   "metadata": {},
   "outputs": [
    {
     "ename": "IndexError",
     "evalue": "string index out of range",
     "output_type": "error",
     "traceback": [
      "\u001b[1;31m---------------------------------------------------------------------------\u001b[0m",
      "\u001b[1;31mIndexError\u001b[0m                                Traceback (most recent call last)",
      "Cell \u001b[1;32mIn[24], line 1\u001b[0m\n\u001b[1;32m----> 1\u001b[0m \u001b[43mst\u001b[49m\u001b[43m[\u001b[49m\u001b[38;5;241;43m100\u001b[39;49m\u001b[43m]\u001b[49m\n",
      "\u001b[1;31mIndexError\u001b[0m: string index out of range"
     ]
    }
   ],
   "source": [
    "st[100]"
   ]
  },
  {
   "cell_type": "code",
   "execution_count": 25,
   "id": "93d58e2a-04e3-4128-ba75-68f28a51f140",
   "metadata": {},
   "outputs": [],
   "source": [
    "# striding"
   ]
  },
  {
   "cell_type": "code",
   "execution_count": 26,
   "id": "c89bcb98-1820-4007-8346-47de8fb50d91",
   "metadata": {},
   "outputs": [],
   "source": [
    "st = \"abcdefghij\""
   ]
  },
  {
   "cell_type": "code",
   "execution_count": null,
   "id": "5f929d09-7492-4cfd-8cb9-48a7ed3025d9",
   "metadata": {},
   "outputs": [],
   "source": [
    "var[start index: end index: step value]"
   ]
  },
  {
   "cell_type": "code",
   "execution_count": 27,
   "id": "aa4f28af-440f-4f15-8167-2251eb6d0d51",
   "metadata": {},
   "outputs": [
    {
     "data": {
      "text/plain": [
       "'acegi'"
      ]
     },
     "execution_count": 27,
     "metadata": {},
     "output_type": "execute_result"
    }
   ],
   "source": [
    "st[0::2]"
   ]
  },
  {
   "cell_type": "code",
   "execution_count": 28,
   "id": "102861c2-a03e-41a0-8a16-1757a54ccbbc",
   "metadata": {},
   "outputs": [
    {
     "data": {
      "text/plain": [
       "'bdfhj'"
      ]
     },
     "execution_count": 28,
     "metadata": {},
     "output_type": "execute_result"
    }
   ],
   "source": [
    "st[1::2]\n",
    "# bdfhj"
   ]
  },
  {
   "cell_type": "code",
   "execution_count": 29,
   "id": "dc6b3569-5047-41ce-b0c7-cb81d3cb24f2",
   "metadata": {},
   "outputs": [
    {
     "data": {
      "text/plain": [
       "'be'"
      ]
     },
     "execution_count": 29,
     "metadata": {},
     "output_type": "execute_result"
    }
   ],
   "source": [
    "st[1:5:3]\n",
    "# bdf"
   ]
  },
  {
   "cell_type": "code",
   "execution_count": 33,
   "id": "22e52a78-875a-4abf-b63c-71e0465982b5",
   "metadata": {},
   "outputs": [
    {
     "data": {
      "text/plain": [
       "'ad'"
      ]
     },
     "execution_count": 33,
     "metadata": {},
     "output_type": "execute_result"
    }
   ],
   "source": [
    "st = \"abcdefghij\"\n",
    "st[:6:3]\n",
    "# ad"
   ]
  },
  {
   "cell_type": "code",
   "execution_count": 34,
   "id": "c4cf4a60-d98d-47eb-b9d7-dd86d25ea9ab",
   "metadata": {},
   "outputs": [
    {
     "data": {
      "text/plain": [
       "'aei'"
      ]
     },
     "execution_count": 34,
     "metadata": {},
     "output_type": "execute_result"
    }
   ],
   "source": [
    "st = \"abcdefghij\"\n",
    "st[::4]\n",
    "# aei"
   ]
  },
  {
   "cell_type": "code",
   "execution_count": 35,
   "id": "f0cd158d-d3ae-4abd-ad7f-c40d55543199",
   "metadata": {},
   "outputs": [
    {
     "data": {
      "text/plain": [
       "'abcdefghij'"
      ]
     },
     "execution_count": 35,
     "metadata": {},
     "output_type": "execute_result"
    }
   ],
   "source": [
    "st[::1]\n",
    "# "
   ]
  },
  {
   "cell_type": "code",
   "execution_count": 36,
   "id": "286ee787-c709-4195-9482-4a406f54015d",
   "metadata": {},
   "outputs": [
    {
     "data": {
      "text/plain": [
       "'jihgfedcba'"
      ]
     },
     "execution_count": 36,
     "metadata": {},
     "output_type": "execute_result"
    }
   ],
   "source": [
    "st[::-1]\n",
    "# jihgfedcba"
   ]
  },
  {
   "cell_type": "code",
   "execution_count": 37,
   "id": "a6091a7b-de8a-4b90-b7c4-3f196018d0ea",
   "metadata": {},
   "outputs": [
    {
     "data": {
      "text/plain": [
       "'jhfdb'"
      ]
     },
     "execution_count": 37,
     "metadata": {},
     "output_type": "execute_result"
    }
   ],
   "source": [
    "st[::-2]\n",
    "# jhfdb"
   ]
  },
  {
   "cell_type": "code",
   "execution_count": 38,
   "id": "9a1f19be-8c53-42b0-9a8f-eff7aa85abde",
   "metadata": {},
   "outputs": [
    {
     "data": {
      "text/plain": [
       "'jgda'"
      ]
     },
     "execution_count": 38,
     "metadata": {},
     "output_type": "execute_result"
    }
   ],
   "source": [
    "st[::-3]\n",
    "# jgda"
   ]
  },
  {
   "cell_type": "code",
   "execution_count": 41,
   "id": "b71ffe16-058c-4fd3-97f2-11defa9aa2c0",
   "metadata": {},
   "outputs": [
    {
     "data": {
      "text/plain": [
       "'jihgfedcb'"
      ]
     },
     "execution_count": 41,
     "metadata": {},
     "output_type": "execute_result"
    }
   ],
   "source": [
    "st[-1:-10:-1]"
   ]
  },
  {
   "cell_type": "code",
   "execution_count": 42,
   "id": "a56285d5-2212-439b-9a9e-16f81708008e",
   "metadata": {},
   "outputs": [
    {
     "data": {
      "text/plain": [
       "10"
      ]
     },
     "execution_count": 42,
     "metadata": {},
     "output_type": "execute_result"
    }
   ],
   "source": [
    "len(st)"
   ]
  },
  {
   "cell_type": "code",
   "execution_count": 43,
   "id": "a77cfb74-b465-4ffa-a1e2-55ae9379af08",
   "metadata": {},
   "outputs": [
    {
     "data": {
      "text/plain": [
       "'jihgfedcba'"
      ]
     },
     "execution_count": 43,
     "metadata": {},
     "output_type": "execute_result"
    }
   ],
   "source": [
    "st[-1:-11:-1]"
   ]
  },
  {
   "cell_type": "code",
   "execution_count": 44,
   "id": "e8c9df3c-25a5-4467-94f6-586eed85702b",
   "metadata": {},
   "outputs": [
    {
     "data": {
      "text/plain": [
       "['I', 'am', 'pratibha']"
      ]
     },
     "execution_count": 44,
     "metadata": {},
     "output_type": "execute_result"
    }
   ],
   "source": [
    "st = \"I am pratibha\"\n",
    "st.split(\" \")"
   ]
  },
  {
   "cell_type": "code",
   "execution_count": 45,
   "id": "fb1467be-37b6-4fba-9348-94afb2a6c57a",
   "metadata": {},
   "outputs": [],
   "source": [
    "st_l = st.split(\" \")"
   ]
  },
  {
   "cell_type": "code",
   "execution_count": null,
   "id": "c27e1e8a-4560-4224-8c7f-fa646a2b5571",
   "metadata": {},
   "outputs": [],
   "source": [
    "# read on split method"
   ]
  }
 ],
 "metadata": {
  "kernelspec": {
   "display_name": "Python 3 (ipykernel)",
   "language": "python",
   "name": "python3"
  },
  "language_info": {
   "codemirror_mode": {
    "name": "ipython",
    "version": 3
   },
   "file_extension": ".py",
   "mimetype": "text/x-python",
   "name": "python",
   "nbconvert_exporter": "python",
   "pygments_lexer": "ipython3",
   "version": "3.13.1"
  }
 },
 "nbformat": 4,
 "nbformat_minor": 5
}
