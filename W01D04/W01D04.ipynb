{
 "cells": [
  {
   "cell_type": "markdown",
   "id": "4c852677-85ce-4d99-8a61-7ae469d24f2d",
   "metadata": {},
   "source": [
    "# Strings"
   ]
  },
  {
   "cell_type": "code",
   "execution_count": 2,
   "id": "3b792382-0996-4023-bdc6-f06b2fafac1a",
   "metadata": {},
   "outputs": [
    {
     "name": "stdout",
     "output_type": "stream",
     "text": [
      "Hey i am a string from jupter\n"
     ]
    }
   ],
   "source": [
    "print(\"Hey i am a string from jupter\")"
   ]
  },
  {
   "cell_type": "code",
   "execution_count": 4,
   "id": "620054ad-c4a5-46df-a366-ca55c2c7b567",
   "metadata": {},
   "outputs": [
    {
     "ename": "SyntaxError",
     "evalue": "invalid decimal literal (3842447716.py, line 1)",
     "output_type": "error",
     "traceback": [
      "\u001b[1;36m  Cell \u001b[1;32mIn[4], line 1\u001b[1;36m\u001b[0m\n\u001b[1;33m    2djh\u001b[0m\n\u001b[1;37m    ^\u001b[0m\n\u001b[1;31mSyntaxError\u001b[0m\u001b[1;31m:\u001b[0m invalid decimal literal\n"
     ]
    }
   ],
   "source": [
    "2djh"
   ]
  },
  {
   "cell_type": "code",
   "execution_count": 5,
   "id": "14fa8b09-0944-47be-9734-9cc732dbfab6",
   "metadata": {},
   "outputs": [
    {
     "name": "stderr",
     "output_type": "stream",
     "text": [
      "UsageError: Line magic function `%$kj` not found.\n"
     ]
    }
   ],
   "source": [
    "%$kj"
   ]
  },
  {
   "cell_type": "code",
   "execution_count": 7,
   "id": "526a49a0-44c5-41a9-afa4-16c6bdbc8a5c",
   "metadata": {},
   "outputs": [
    {
     "ename": "SyntaxError",
     "evalue": "cannot assign to expression here. Maybe you meant '==' instead of '='? (407692730.py, line 1)",
     "output_type": "error",
     "traceback": [
      "\u001b[1;36m  Cell \u001b[1;32mIn[7], line 1\u001b[1;36m\u001b[0m\n\u001b[1;33m    +kjd = \"k\"\u001b[0m\n\u001b[1;37m    ^\u001b[0m\n\u001b[1;31mSyntaxError\u001b[0m\u001b[1;31m:\u001b[0m cannot assign to expression here. Maybe you meant '==' instead of '='?\n"
     ]
    }
   ],
   "source": [
    "+kjd = \"k\""
   ]
  },
  {
   "cell_type": "code",
   "execution_count": 8,
   "id": "57a12396-296d-49f9-8b98-bbe96b2ba579",
   "metadata": {},
   "outputs": [
    {
     "ename": "SyntaxError",
     "evalue": "cannot assign to expression here. Maybe you meant '==' instead of '='? (1559457785.py, line 1)",
     "output_type": "error",
     "traceback": [
      "\u001b[1;36m  Cell \u001b[1;32mIn[8], line 1\u001b[1;36m\u001b[0m\n\u001b[1;33m    -jha = 5\u001b[0m\n\u001b[1;37m    ^\u001b[0m\n\u001b[1;31mSyntaxError\u001b[0m\u001b[1;31m:\u001b[0m cannot assign to expression here. Maybe you meant '==' instead of '='?\n"
     ]
    }
   ],
   "source": [
    "-jha = 5"
   ]
  },
  {
   "cell_type": "code",
   "execution_count": 9,
   "id": "03834718-643a-4cb0-8f02-b3a0ebfd5bf2",
   "metadata": {},
   "outputs": [],
   "source": [
    "_hey = 4"
   ]
  },
  {
   "cell_type": "code",
   "execution_count": 10,
   "id": "d0bdadfe-c8e3-44df-ab2f-5617c068bdbe",
   "metadata": {},
   "outputs": [],
   "source": [
    "hey = 9"
   ]
  },
  {
   "cell_type": "code",
   "execution_count": 11,
   "id": "b5466c3c-c6b9-4ae6-ae3d-f0adec421cb5",
   "metadata": {},
   "outputs": [],
   "source": [
    "h43 = \"vaccine\""
   ]
  },
  {
   "cell_type": "code",
   "execution_count": 12,
   "id": "d776eadb-b79a-4976-a043-4097e7d578e7",
   "metadata": {},
   "outputs": [
    {
     "data": {
      "text/plain": [
       "'vaccine'"
      ]
     },
     "execution_count": 12,
     "metadata": {},
     "output_type": "execute_result"
    }
   ],
   "source": [
    "h43"
   ]
  },
  {
   "cell_type": "markdown",
   "id": "1f7a5acf-e418-4f72-af9b-e6a03b75e8b8",
   "metadata": {},
   "source": [
    "## Assignment"
   ]
  },
  {
   "cell_type": "markdown",
   "id": "f5420e28-6ced-4bad-ad94-b49f8121df03",
   "metadata": {},
   "source": [
    "#### Figure out the valid rules to declare a variable in python"
   ]
  },
  {
   "cell_type": "code",
   "execution_count": 14,
   "id": "7eb1e06b-218b-4130-80aa-4f2525378499",
   "metadata": {},
   "outputs": [],
   "source": [
    "name = \"Pratibha\""
   ]
  },
  {
   "cell_type": "code",
   "execution_count": 15,
   "id": "735bc044-76b5-4833-b6a8-f3d823861626",
   "metadata": {},
   "outputs": [
    {
     "name": "stdout",
     "output_type": "stream",
     "text": [
      "Pratibha\n"
     ]
    }
   ],
   "source": [
    "print(name)"
   ]
  },
  {
   "cell_type": "code",
   "execution_count": 16,
   "id": "c3c7ffe1-7dd8-4d43-87e4-d5caf3c4d46f",
   "metadata": {},
   "outputs": [],
   "source": [
    "# String is an immutable object"
   ]
  },
  {
   "cell_type": "code",
   "execution_count": 17,
   "id": "91d84d61-a551-4c64-890c-f672bc451608",
   "metadata": {},
   "outputs": [
    {
     "name": "stdout",
     "output_type": "stream",
     "text": [
      "1679692693808\n"
     ]
    }
   ],
   "source": [
    "name = \"pratibha\"\n",
    "print(id(name))"
   ]
  },
  {
   "cell_type": "code",
   "execution_count": 18,
   "id": "ef75924c-8c51-42dd-b513-6c5412915ba7",
   "metadata": {},
   "outputs": [
    {
     "data": {
      "text/plain": [
       "1679692693808"
      ]
     },
     "execution_count": 18,
     "metadata": {},
     "output_type": "execute_result"
    }
   ],
   "source": [
    "d = \"pratibha\"\n",
    "id(d)"
   ]
  },
  {
   "cell_type": "code",
   "execution_count": 19,
   "id": "b7782ff4-0838-4257-94ef-85d962a2bad2",
   "metadata": {},
   "outputs": [
    {
     "data": {
      "text/plain": [
       "1679692694768"
      ]
     },
     "execution_count": 19,
     "metadata": {},
     "output_type": "execute_result"
    }
   ],
   "source": [
    "a = \"Pratibha\"\n",
    "id(a)"
   ]
  },
  {
   "cell_type": "code",
   "execution_count": 1,
   "id": "62e41d60-4b25-430d-be7f-515d73e7b9bf",
   "metadata": {},
   "outputs": [
    {
     "name": "stdout",
     "output_type": "stream",
     "text": [
      "2303581806256\n"
     ]
    }
   ],
   "source": [
    "name = \"pratibha\"\n",
    "print(id(name))"
   ]
  },
  {
   "cell_type": "code",
   "execution_count": 2,
   "id": "0ccabf11-1ab7-4b82-b99c-da5faeb1e200",
   "metadata": {},
   "outputs": [
    {
     "data": {
      "text/plain": [
       "2303581806256"
      ]
     },
     "execution_count": 2,
     "metadata": {},
     "output_type": "execute_result"
    }
   ],
   "source": [
    "d = \"pratibha\"\n",
    "id(d)"
   ]
  },
  {
   "cell_type": "code",
   "execution_count": 3,
   "id": "675ed160-3d33-42e1-bd86-b60c712e5d37",
   "metadata": {},
   "outputs": [
    {
     "name": "stdout",
     "output_type": "stream",
     "text": [
      "3\n"
     ]
    }
   ],
   "source": [
    "l = [4, 5, 6]\n",
    "print(len(l))"
   ]
  },
  {
   "cell_type": "code",
   "execution_count": 4,
   "id": "0622b889-fbd2-458a-9d16-edf8f5e1aa37",
   "metadata": {},
   "outputs": [],
   "source": [
    "l.append(\"5\")"
   ]
  },
  {
   "cell_type": "code",
   "execution_count": 5,
   "id": "de3212e4-9ea6-4a08-9062-1bc6de34ff4b",
   "metadata": {},
   "outputs": [
    {
     "name": "stdout",
     "output_type": "stream",
     "text": [
      "[4, 5, 6, '5']\n"
     ]
    }
   ],
   "source": [
    "print(l)"
   ]
  },
  {
   "cell_type": "code",
   "execution_count": 6,
   "id": "e4bda638-a75e-4d47-929d-4ffb3b2391e9",
   "metadata": {},
   "outputs": [
    {
     "data": {
      "text/plain": [
       "4"
      ]
     },
     "execution_count": 6,
     "metadata": {},
     "output_type": "execute_result"
    }
   ],
   "source": [
    "l[0]"
   ]
  },
  {
   "cell_type": "code",
   "execution_count": 7,
   "id": "0566995b-8459-4675-89e1-e038f3d5c3f7",
   "metadata": {},
   "outputs": [
    {
     "data": {
      "text/plain": [
       "5"
      ]
     },
     "execution_count": 7,
     "metadata": {},
     "output_type": "execute_result"
    }
   ],
   "source": [
    "l[1]"
   ]
  },
  {
   "cell_type": "code",
   "execution_count": 8,
   "id": "25a4fb9f-b639-42d7-a5c6-b1891de5ee21",
   "metadata": {},
   "outputs": [
    {
     "ename": "IndexError",
     "evalue": "list index out of range",
     "output_type": "error",
     "traceback": [
      "\u001b[1;31m---------------------------------------------------------------------------\u001b[0m",
      "\u001b[1;31mIndexError\u001b[0m                                Traceback (most recent call last)",
      "Cell \u001b[1;32mIn[8], line 1\u001b[0m\n\u001b[1;32m----> 1\u001b[0m \u001b[43ml\u001b[49m\u001b[43m[\u001b[49m\u001b[38;5;241;43m5\u001b[39;49m\u001b[43m]\u001b[49m\n",
      "\u001b[1;31mIndexError\u001b[0m: list index out of range"
     ]
    }
   ],
   "source": [
    "l[5]"
   ]
  },
  {
   "cell_type": "code",
   "execution_count": 9,
   "id": "61639174-82e9-433b-9334-184f848525ad",
   "metadata": {},
   "outputs": [
    {
     "data": {
      "text/plain": [
       "'p'"
      ]
     },
     "execution_count": 9,
     "metadata": {},
     "output_type": "execute_result"
    }
   ],
   "source": [
    "d[0]"
   ]
  },
  {
   "cell_type": "code",
   "execution_count": 10,
   "id": "c9f88027-d877-4f90-a70f-b76ce414a81c",
   "metadata": {},
   "outputs": [],
   "source": [
    "l[0] = 66"
   ]
  },
  {
   "cell_type": "code",
   "execution_count": 11,
   "id": "68ac875c-30ce-4d0e-a2f6-c54bbb1cf125",
   "metadata": {},
   "outputs": [
    {
     "data": {
      "text/plain": [
       "[66, 5, 6, '5']"
      ]
     },
     "execution_count": 11,
     "metadata": {},
     "output_type": "execute_result"
    }
   ],
   "source": [
    "l"
   ]
  },
  {
   "cell_type": "code",
   "execution_count": 12,
   "id": "25c5e2c3-2ba2-4028-a8d2-42396926aae6",
   "metadata": {},
   "outputs": [
    {
     "ename": "TypeError",
     "evalue": "'str' object does not support item assignment",
     "output_type": "error",
     "traceback": [
      "\u001b[1;31m---------------------------------------------------------------------------\u001b[0m",
      "\u001b[1;31mTypeError\u001b[0m                                 Traceback (most recent call last)",
      "Cell \u001b[1;32mIn[12], line 2\u001b[0m\n\u001b[0;32m      1\u001b[0m d \u001b[38;5;241m=\u001b[39m \u001b[38;5;124m\"\u001b[39m\u001b[38;5;124mpratibha\u001b[39m\u001b[38;5;124m\"\u001b[39m\n\u001b[1;32m----> 2\u001b[0m \u001b[43md\u001b[49m\u001b[43m[\u001b[49m\u001b[38;5;241;43m0\u001b[39;49m\u001b[43m]\u001b[49m \u001b[38;5;241m=\u001b[39m \u001b[38;5;124m\"\u001b[39m\u001b[38;5;124m6\u001b[39m\u001b[38;5;124m\"\u001b[39m\n",
      "\u001b[1;31mTypeError\u001b[0m: 'str' object does not support item assignment"
     ]
    }
   ],
   "source": [
    "d = \"pratibha\"\n",
    "d[0] = \"6\""
   ]
  },
  {
   "cell_type": "code",
   "execution_count": null,
   "id": "b69dbb52-2409-4f92-a1b2-1e0a11d001ef",
   "metadata": {},
   "outputs": [],
   "source": []
  }
 ],
 "metadata": {
  "kernelspec": {
   "display_name": "Python 3 (ipykernel)",
   "language": "python",
   "name": "python3"
  },
  "language_info": {
   "codemirror_mode": {
    "name": "ipython",
    "version": 3
   },
   "file_extension": ".py",
   "mimetype": "text/x-python",
   "name": "python",
   "nbconvert_exporter": "python",
   "pygments_lexer": "ipython3",
   "version": "3.13.1"
  }
 },
 "nbformat": 4,
 "nbformat_minor": 5
}
