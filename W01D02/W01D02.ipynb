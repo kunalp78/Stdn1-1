{
 "cells": [
  {
   "cell_type": "markdown",
   "id": "0ab80a9a-145a-467e-a481-0c3ac5d915a8",
   "metadata": {},
   "source": [
    "# Primitive Data type"
   ]
  },
  {
   "cell_type": "code",
   "execution_count": 1,
   "id": "614036f5-3c9a-44f0-a8fb-cfa29b105c23",
   "metadata": {},
   "outputs": [],
   "source": [
    "# String: whatever you you write between the quotes are considered as string except the special characters(eg. newline character...)"
   ]
  },
  {
   "cell_type": "code",
   "execution_count": null,
   "id": "fa864324-5461-4aa3-883d-ed581d99c7ad",
   "metadata": {},
   "outputs": [],
   "source": [
    "single lines:\n",
    "    signle quote: 'abc def gfj3 355 22@3 #%^ jo03i'\n",
    "    double quote: \"abc def gfj3 355 22@3 #%^ jo03i\"\n",
    "double lines:\n",
    "    triple quote:\n",
    "        single: \n",
    "            ''' \n",
    "            hey I am written in triple quote\n",
    "            I am new line here\n",
    "            '''\n",
    "        double:\n",
    "            \"\"\"\n",
    "            sdjfhsd sdfjdsnf1244\n",
    "            2432432jdnd35\n",
    "            \"\"\""
   ]
  },
  {
   "cell_type": "code",
   "execution_count": 2,
   "id": "46777f26-1a32-46bd-ad45-30c26ee5dcc0",
   "metadata": {},
   "outputs": [
    {
     "data": {
      "text/plain": [
       "'pratibha blah blah'"
      ]
     },
     "execution_count": 2,
     "metadata": {},
     "output_type": "execute_result"
    }
   ],
   "source": [
    "'pratibha blah blah'"
   ]
  },
  {
   "cell_type": "code",
   "execution_count": 3,
   "id": "cee9605b-6746-416b-9b9a-c091e34d66d9",
   "metadata": {},
   "outputs": [
    {
     "data": {
      "text/plain": [
       "'234234njbijh3oh jhdfojh89b8'"
      ]
     },
     "execution_count": 3,
     "metadata": {},
     "output_type": "execute_result"
    }
   ],
   "source": [
    "\"234234njbijh3oh jhdfojh89b8\""
   ]
  },
  {
   "cell_type": "code",
   "execution_count": 4,
   "id": "640e8198-d2ef-4a6f-905e-ab2aa89749bb",
   "metadata": {},
   "outputs": [
    {
     "ename": "SyntaxError",
     "evalue": "unterminated string literal (detected at line 1) (4231644241.py, line 1)",
     "output_type": "error",
     "traceback": [
      "\u001b[1;36m  Cell \u001b[1;32mIn[4], line 1\u001b[1;36m\u001b[0m\n\u001b[1;33m    'hey I am there\u001b[0m\n\u001b[1;37m    ^\u001b[0m\n\u001b[1;31mSyntaxError\u001b[0m\u001b[1;31m:\u001b[0m unterminated string literal (detected at line 1)\n"
     ]
    }
   ],
   "source": [
    "'hey I am there\n",
    "jai hind'"
   ]
  },
  {
   "cell_type": "code",
   "execution_count": 5,
   "id": "d4ed513d-c5d5-45e0-8152-acb33fe514bb",
   "metadata": {},
   "outputs": [
    {
     "data": {
      "text/plain": [
       "'\\nheyaa skdfhsdjib\\ndsjfnsdof\\n jnojj4\\n 44546\\n'"
      ]
     },
     "execution_count": 5,
     "metadata": {},
     "output_type": "execute_result"
    }
   ],
   "source": [
    "'''\n",
    "heyaa skdfhsdjib\n",
    "dsjfnsdof\n",
    " jnojj4\n",
    " 44546\n",
    "'''"
   ]
  },
  {
   "cell_type": "code",
   "execution_count": null,
   "id": "5ca76d13-c702-47ff-af48-e7e8be0d3951",
   "metadata": {},
   "outputs": [],
   "source": [
    "\\n --> is a new line character"
   ]
  },
  {
   "cell_type": "code",
   "execution_count": 6,
   "id": "c0ca919a-4b7c-4411-a0d9-0bc145b223d0",
   "metadata": {},
   "outputs": [
    {
     "data": {
      "text/plain": [
       "'I am at home.\\nI am working'"
      ]
     },
     "execution_count": 6,
     "metadata": {},
     "output_type": "execute_result"
    }
   ],
   "source": [
    "\"I am at home.\\nI am working\""
   ]
  },
  {
   "cell_type": "code",
   "execution_count": 7,
   "id": "908c5dae-f1b2-4812-82ef-6695f68831f4",
   "metadata": {},
   "outputs": [
    {
     "name": "stdout",
     "output_type": "stream",
     "text": [
      "I am at home.\n",
      "I am working\n"
     ]
    }
   ],
   "source": [
    "print(\"I am at home.\\nI am working\")"
   ]
  },
  {
   "cell_type": "code",
   "execution_count": 8,
   "id": "41c8dcf0-f480-4ad5-b67e-7c67f769eba2",
   "metadata": {},
   "outputs": [
    {
     "data": {
      "text/plain": [
       "str"
      ]
     },
     "execution_count": 8,
     "metadata": {},
     "output_type": "execute_result"
    }
   ],
   "source": [
    "type(\"pratibha\")"
   ]
  },
  {
   "cell_type": "code",
   "execution_count": 9,
   "id": "e108b0b2-d5f4-470b-9ea8-d9e52719bf40",
   "metadata": {},
   "outputs": [
    {
     "data": {
      "text/plain": [
       "int"
      ]
     },
     "execution_count": 9,
     "metadata": {},
     "output_type": "execute_result"
    }
   ],
   "source": [
    "type(23)"
   ]
  },
  {
   "cell_type": "code",
   "execution_count": 10,
   "id": "835580f9-ec28-4403-9b90-29da335387fd",
   "metadata": {},
   "outputs": [
    {
     "data": {
      "text/plain": [
       "float"
      ]
     },
     "execution_count": 10,
     "metadata": {},
     "output_type": "execute_result"
    }
   ],
   "source": [
    "type(20.2)"
   ]
  },
  {
   "cell_type": "code",
   "execution_count": 11,
   "id": "1a38af0d-a375-4eb1-8520-cd23b3eb4faf",
   "metadata": {},
   "outputs": [
    {
     "data": {
      "text/plain": [
       "(5+3j)"
      ]
     },
     "execution_count": 11,
     "metadata": {},
     "output_type": "execute_result"
    }
   ],
   "source": [
    "5 + 3j"
   ]
  },
  {
   "cell_type": "code",
   "execution_count": 12,
   "id": "98a26ed4-3ee0-43a9-a447-53a346b39c91",
   "metadata": {},
   "outputs": [
    {
     "data": {
      "text/plain": [
       "complex"
      ]
     },
     "execution_count": 12,
     "metadata": {},
     "output_type": "execute_result"
    }
   ],
   "source": [
    "type(5+3j)"
   ]
  },
  {
   "cell_type": "code",
   "execution_count": 13,
   "id": "ecc77e22-7f09-43c2-8448-e6faf5e7f361",
   "metadata": {},
   "outputs": [
    {
     "data": {
      "text/plain": [
       "NoneType"
      ]
     },
     "execution_count": 13,
     "metadata": {},
     "output_type": "execute_result"
    }
   ],
   "source": [
    "type(None)"
   ]
  },
  {
   "cell_type": "code",
   "execution_count": 14,
   "id": "d50e1bc8-cd93-4e78-9551-05c4105ffec2",
   "metadata": {},
   "outputs": [
    {
     "data": {
      "text/plain": [
       "bool"
      ]
     },
     "execution_count": 14,
     "metadata": {},
     "output_type": "execute_result"
    }
   ],
   "source": [
    "type(False)"
   ]
  },
  {
   "cell_type": "code",
   "execution_count": 15,
   "id": "fdaca91a-4178-4841-97fb-c6d4b208af69",
   "metadata": {},
   "outputs": [
    {
     "data": {
      "text/plain": [
       "bool"
      ]
     },
     "execution_count": 15,
     "metadata": {},
     "output_type": "execute_result"
    }
   ],
   "source": [
    "type(True)"
   ]
  },
  {
   "cell_type": "markdown",
   "id": "c6d8a88c-c9af-440c-aba1-2ff879d1fc8d",
   "metadata": {},
   "source": [
    "# Non Primitive data types (Collection type)"
   ]
  },
  {
   "cell_type": "code",
   "execution_count": 17,
   "id": "ba41da8d-1f80-4afd-a6ce-cb7f3a3c9e64",
   "metadata": {},
   "outputs": [],
   "source": [
    "# list A collection of hetrogenous data types. \n",
    "# Its is a mutable(changeable) data type."
   ]
  },
  {
   "cell_type": "code",
   "execution_count": 18,
   "id": "18871681-07a7-48f5-97c4-fb3b85d69e64",
   "metadata": {},
   "outputs": [
    {
     "data": {
      "text/plain": [
       "list"
      ]
     },
     "execution_count": 18,
     "metadata": {},
     "output_type": "execute_result"
    }
   ],
   "source": [
    "type([])"
   ]
  },
  {
   "cell_type": "code",
   "execution_count": 19,
   "id": "d8cda1b2-7883-44a0-97bd-c8c442f2d097",
   "metadata": {},
   "outputs": [
    {
     "data": {
      "text/plain": [
       "['5', 6, 'k:p']"
      ]
     },
     "execution_count": 19,
     "metadata": {},
     "output_type": "execute_result"
    }
   ],
   "source": [
    "[\"5\", 6, \"k:p\"]"
   ]
  },
  {
   "cell_type": "code",
   "execution_count": 20,
   "id": "55995dea-e0d1-44ae-8408-89d245bfcaaf",
   "metadata": {},
   "outputs": [],
   "source": [
    "# tuple is a collection of hetrogenous data type.\n",
    "# its immutable(non-changeable) data type:\n",
    "    # you cannot change it once defined"
   ]
  },
  {
   "cell_type": "code",
   "execution_count": 21,
   "id": "952bbdf7-c874-4546-b62e-76bf567d46c3",
   "metadata": {},
   "outputs": [
    {
     "data": {
      "text/plain": [
       "tuple"
      ]
     },
     "execution_count": 21,
     "metadata": {},
     "output_type": "execute_result"
    }
   ],
   "source": [
    "type(())"
   ]
  },
  {
   "cell_type": "code",
   "execution_count": 22,
   "id": "d8a05b57-4a63-40e3-a21a-1b9dd673c257",
   "metadata": {},
   "outputs": [
    {
     "data": {
      "text/plain": [
       "('6', 'shit', 56)"
      ]
     },
     "execution_count": 22,
     "metadata": {},
     "output_type": "execute_result"
    }
   ],
   "source": [
    "(\"6\", \"shit\", 56)"
   ]
  },
  {
   "cell_type": "code",
   "execution_count": 23,
   "id": "ba13327f-ba61-44ce-894b-fb1558c1769c",
   "metadata": {},
   "outputs": [],
   "source": [
    "# homework is read on dictionary, set and range"
   ]
  },
  {
   "cell_type": "code",
   "execution_count": 24,
   "id": "5bdbfe61-68f8-4527-b9cc-a8d50dee18d1",
   "metadata": {},
   "outputs": [
    {
     "name": "stdout",
     "output_type": "stream",
     "text": [
      "Requirement already satisfied: nbconvert[webpdf] in f:\\python class\\stdnt 1\\myenv\\lib\\site-packages (7.16.5)\n",
      "Requirement already satisfied: beautifulsoup4 in f:\\python class\\stdnt 1\\myenv\\lib\\site-packages (from nbconvert[webpdf]) (4.12.3)\n",
      "Requirement already satisfied: bleach!=5.0.0 in f:\\python class\\stdnt 1\\myenv\\lib\\site-packages (from bleach[css]!=5.0.0->nbconvert[webpdf]) (6.2.0)\n",
      "Requirement already satisfied: defusedxml in f:\\python class\\stdnt 1\\myenv\\lib\\site-packages (from nbconvert[webpdf]) (0.7.1)\n",
      "Requirement already satisfied: jinja2>=3.0 in f:\\python class\\stdnt 1\\myenv\\lib\\site-packages (from nbconvert[webpdf]) (3.1.5)\n",
      "Requirement already satisfied: jupyter-core>=4.7 in f:\\python class\\stdnt 1\\myenv\\lib\\site-packages (from nbconvert[webpdf]) (5.7.2)\n",
      "Requirement already satisfied: jupyterlab-pygments in f:\\python class\\stdnt 1\\myenv\\lib\\site-packages (from nbconvert[webpdf]) (0.3.0)\n",
      "Requirement already satisfied: markupsafe>=2.0 in f:\\python class\\stdnt 1\\myenv\\lib\\site-packages (from nbconvert[webpdf]) (3.0.2)\n",
      "Requirement already satisfied: mistune<4,>=2.0.3 in f:\\python class\\stdnt 1\\myenv\\lib\\site-packages (from nbconvert[webpdf]) (3.1.0)\n",
      "Requirement already satisfied: nbclient>=0.5.0 in f:\\python class\\stdnt 1\\myenv\\lib\\site-packages (from nbconvert[webpdf]) (0.10.2)\n",
      "Requirement already satisfied: nbformat>=5.7 in f:\\python class\\stdnt 1\\myenv\\lib\\site-packages (from nbconvert[webpdf]) (5.10.4)\n",
      "Requirement already satisfied: packaging in f:\\python class\\stdnt 1\\myenv\\lib\\site-packages (from nbconvert[webpdf]) (24.2)\n",
      "Requirement already satisfied: pandocfilters>=1.4.1 in f:\\python class\\stdnt 1\\myenv\\lib\\site-packages (from nbconvert[webpdf]) (1.5.1)\n",
      "Requirement already satisfied: pygments>=2.4.1 in f:\\python class\\stdnt 1\\myenv\\lib\\site-packages (from nbconvert[webpdf]) (2.19.1)\n",
      "Requirement already satisfied: traitlets>=5.1 in f:\\python class\\stdnt 1\\myenv\\lib\\site-packages (from nbconvert[webpdf]) (5.14.3)\n",
      "Collecting playwright (from nbconvert[webpdf])\n",
      "  Downloading playwright-1.49.1-py3-none-win_amd64.whl.metadata (3.5 kB)\n",
      "Requirement already satisfied: webencodings in f:\\python class\\stdnt 1\\myenv\\lib\\site-packages (from bleach!=5.0.0->bleach[css]!=5.0.0->nbconvert[webpdf]) (0.5.1)\n",
      "Requirement already satisfied: tinycss2<1.5,>=1.1.0 in f:\\python class\\stdnt 1\\myenv\\lib\\site-packages (from bleach[css]!=5.0.0->nbconvert[webpdf]) (1.4.0)\n",
      "Requirement already satisfied: platformdirs>=2.5 in f:\\python class\\stdnt 1\\myenv\\lib\\site-packages (from jupyter-core>=4.7->nbconvert[webpdf]) (4.3.6)\n",
      "Requirement already satisfied: pywin32>=300 in f:\\python class\\stdnt 1\\myenv\\lib\\site-packages (from jupyter-core>=4.7->nbconvert[webpdf]) (308)\n",
      "Requirement already satisfied: jupyter-client>=6.1.12 in f:\\python class\\stdnt 1\\myenv\\lib\\site-packages (from nbclient>=0.5.0->nbconvert[webpdf]) (8.6.3)\n",
      "Requirement already satisfied: fastjsonschema>=2.15 in f:\\python class\\stdnt 1\\myenv\\lib\\site-packages (from nbformat>=5.7->nbconvert[webpdf]) (2.21.1)\n",
      "Requirement already satisfied: jsonschema>=2.6 in f:\\python class\\stdnt 1\\myenv\\lib\\site-packages (from nbformat>=5.7->nbconvert[webpdf]) (4.23.0)\n",
      "Requirement already satisfied: soupsieve>1.2 in f:\\python class\\stdnt 1\\myenv\\lib\\site-packages (from beautifulsoup4->nbconvert[webpdf]) (2.6)\n",
      "Collecting greenlet==3.1.1 (from playwright->nbconvert[webpdf])\n",
      "  Downloading greenlet-3.1.1-cp313-cp313-win_amd64.whl.metadata (3.9 kB)\n",
      "Collecting pyee==12.0.0 (from playwright->nbconvert[webpdf])\n",
      "  Downloading pyee-12.0.0-py3-none-any.whl.metadata (2.8 kB)\n",
      "Collecting typing-extensions (from pyee==12.0.0->playwright->nbconvert[webpdf])\n",
      "  Using cached typing_extensions-4.12.2-py3-none-any.whl.metadata (3.0 kB)\n",
      "Requirement already satisfied: attrs>=22.2.0 in f:\\python class\\stdnt 1\\myenv\\lib\\site-packages (from jsonschema>=2.6->nbformat>=5.7->nbconvert[webpdf]) (24.3.0)\n",
      "Requirement already satisfied: jsonschema-specifications>=2023.03.6 in f:\\python class\\stdnt 1\\myenv\\lib\\site-packages (from jsonschema>=2.6->nbformat>=5.7->nbconvert[webpdf]) (2024.10.1)\n",
      "Requirement already satisfied: referencing>=0.28.4 in f:\\python class\\stdnt 1\\myenv\\lib\\site-packages (from jsonschema>=2.6->nbformat>=5.7->nbconvert[webpdf]) (0.35.1)\n",
      "Requirement already satisfied: rpds-py>=0.7.1 in f:\\python class\\stdnt 1\\myenv\\lib\\site-packages (from jsonschema>=2.6->nbformat>=5.7->nbconvert[webpdf]) (0.22.3)\n",
      "Requirement already satisfied: python-dateutil>=2.8.2 in f:\\python class\\stdnt 1\\myenv\\lib\\site-packages (from jupyter-client>=6.1.12->nbclient>=0.5.0->nbconvert[webpdf]) (2.9.0.post0)\n",
      "Requirement already satisfied: pyzmq>=23.0 in f:\\python class\\stdnt 1\\myenv\\lib\\site-packages (from jupyter-client>=6.1.12->nbclient>=0.5.0->nbconvert[webpdf]) (26.2.0)\n",
      "Requirement already satisfied: tornado>=6.2 in f:\\python class\\stdnt 1\\myenv\\lib\\site-packages (from jupyter-client>=6.1.12->nbclient>=0.5.0->nbconvert[webpdf]) (6.4.2)\n",
      "Requirement already satisfied: six>=1.5 in f:\\python class\\stdnt 1\\myenv\\lib\\site-packages (from python-dateutil>=2.8.2->jupyter-client>=6.1.12->nbclient>=0.5.0->nbconvert[webpdf]) (1.17.0)\n",
      "Downloading playwright-1.49.1-py3-none-win_amd64.whl (34.1 MB)\n",
      "   ---------------------------------------- 0.0/34.1 MB ? eta -:--:--\n",
      "   ---------------------------------------- 0.3/34.1 MB ? eta -:--:--\n",
      "    --------------------------------------- 0.5/34.1 MB 1.1 MB/s eta 0:00:32\n",
      "    --------------------------------------- 0.8/34.1 MB 1.4 MB/s eta 0:00:24\n",
      "   - -------------------------------------- 1.3/34.1 MB 1.7 MB/s eta 0:00:19\n",
      "   -- ------------------------------------- 2.1/34.1 MB 2.1 MB/s eta 0:00:16\n",
      "   --- ------------------------------------ 2.9/34.1 MB 2.4 MB/s eta 0:00:14\n",
      "   ---- ----------------------------------- 3.7/34.1 MB 2.6 MB/s eta 0:00:12\n",
      "   ---- ----------------------------------- 4.2/34.1 MB 2.7 MB/s eta 0:00:12\n",
      "   ------ --------------------------------- 5.2/34.1 MB 2.9 MB/s eta 0:00:10\n",
      "   ------- -------------------------------- 6.3/34.1 MB 3.1 MB/s eta 0:00:09\n",
      "   -------- ------------------------------- 7.1/34.1 MB 3.2 MB/s eta 0:00:09\n",
      "   --------- ------------------------------ 7.9/34.1 MB 3.3 MB/s eta 0:00:09\n",
      "   ---------- ----------------------------- 8.9/34.1 MB 3.4 MB/s eta 0:00:08\n",
      "   ----------- ---------------------------- 10.0/34.1 MB 3.5 MB/s eta 0:00:07\n",
      "   ------------ --------------------------- 10.7/34.1 MB 3.5 MB/s eta 0:00:07\n",
      "   ------------- -------------------------- 11.8/34.1 MB 3.6 MB/s eta 0:00:07\n",
      "   -------------- ------------------------- 12.3/34.1 MB 3.5 MB/s eta 0:00:07\n",
      "   --------------- ------------------------ 13.1/34.1 MB 3.6 MB/s eta 0:00:06\n",
      "   ---------------- ----------------------- 13.9/34.1 MB 3.6 MB/s eta 0:00:06\n",
      "   ----------------- ---------------------- 14.9/34.1 MB 3.6 MB/s eta 0:00:06\n",
      "   ------------------ --------------------- 16.0/34.1 MB 3.7 MB/s eta 0:00:05\n",
      "   ------------------- -------------------- 16.8/34.1 MB 3.7 MB/s eta 0:00:05\n",
      "   -------------------- ------------------- 17.6/34.1 MB 3.7 MB/s eta 0:00:05\n",
      "   --------------------- ------------------ 18.6/34.1 MB 3.7 MB/s eta 0:00:05\n",
      "   ----------------------- ---------------- 19.7/34.1 MB 3.8 MB/s eta 0:00:04\n",
      "   ------------------------ --------------- 20.7/34.1 MB 3.8 MB/s eta 0:00:04\n",
      "   ------------------------ --------------- 21.0/34.1 MB 3.8 MB/s eta 0:00:04\n",
      "   ------------------------- -------------- 21.8/34.1 MB 3.8 MB/s eta 0:00:04\n",
      "   -------------------------- ------------- 22.8/34.1 MB 3.8 MB/s eta 0:00:03\n",
      "   ---------------------------- ----------- 23.9/34.1 MB 3.8 MB/s eta 0:00:03\n",
      "   ---------------------------- ----------- 24.6/34.1 MB 3.8 MB/s eta 0:00:03\n",
      "   ----------------------------- ---------- 25.2/34.1 MB 3.8 MB/s eta 0:00:03\n",
      "   ------------------------------ --------- 25.7/34.1 MB 3.8 MB/s eta 0:00:03\n",
      "   ------------------------------- -------- 26.5/34.1 MB 3.8 MB/s eta 0:00:03\n",
      "   -------------------------------- ------- 27.5/34.1 MB 3.8 MB/s eta 0:00:02\n",
      "   --------------------------------- ------ 28.6/34.1 MB 3.8 MB/s eta 0:00:02\n",
      "   ---------------------------------- ----- 29.6/34.1 MB 3.9 MB/s eta 0:00:02\n",
      "   ----------------------------------- ---- 30.4/34.1 MB 3.9 MB/s eta 0:00:01\n",
      "   ------------------------------------ --- 31.5/34.1 MB 3.9 MB/s eta 0:00:01\n",
      "   -------------------------------------- - 32.5/34.1 MB 3.9 MB/s eta 0:00:01\n",
      "   ---------------------------------------  33.6/34.1 MB 3.9 MB/s eta 0:00:01\n",
      "   ---------------------------------------- 34.1/34.1 MB 3.9 MB/s eta 0:00:00\n",
      "Downloading greenlet-3.1.1-cp313-cp313-win_amd64.whl (299 kB)\n",
      "Downloading pyee-12.0.0-py3-none-any.whl (14 kB)\n",
      "Using cached typing_extensions-4.12.2-py3-none-any.whl (37 kB)\n",
      "Installing collected packages: typing-extensions, greenlet, pyee, playwright\n",
      "Successfully installed greenlet-3.1.1 playwright-1.49.1 pyee-12.0.0 typing-extensions-4.12.2\n"
     ]
    }
   ],
   "source": [
    "!pip install nbconvert[webpdf]"
   ]
  },
  {
   "cell_type": "code",
   "execution_count": 25,
   "id": "88aa205c-5efd-4cf1-ab13-59dd8f1083eb",
   "metadata": {},
   "outputs": [
    {
     "name": "stdout",
     "output_type": "stream",
     "text": [
      "Collecting pandoc\n",
      "  Using cached pandoc-2.4.tar.gz (34 kB)\n",
      "  Installing build dependencies: started\n",
      "  Installing build dependencies: finished with status 'done'\n",
      "  Getting requirements to build wheel: started\n",
      "  Getting requirements to build wheel: finished with status 'done'\n",
      "  Preparing metadata (pyproject.toml): started\n",
      "  Preparing metadata (pyproject.toml): finished with status 'done'\n",
      "Collecting plumbum (from pandoc)\n",
      "  Downloading plumbum-1.9.0-py3-none-any.whl.metadata (10 kB)\n",
      "Collecting ply (from pandoc)\n",
      "  Using cached ply-3.11-py2.py3-none-any.whl.metadata (844 bytes)\n",
      "Requirement already satisfied: pywin32 in f:\\python class\\stdnt 1\\myenv\\lib\\site-packages (from plumbum->pandoc) (308)\n",
      "Downloading plumbum-1.9.0-py3-none-any.whl (127 kB)\n",
      "Using cached ply-3.11-py2.py3-none-any.whl (49 kB)\n",
      "Building wheels for collected packages: pandoc\n",
      "  Building wheel for pandoc (pyproject.toml): started\n",
      "  Building wheel for pandoc (pyproject.toml): finished with status 'done'\n",
      "  Created wheel for pandoc: filename=pandoc-2.4-py3-none-any.whl size=34820 sha256=16600ffb74d5adfd1c2a895a8738f51087eeee2b4e2c6ab033502b85665205b6\n",
      "  Stored in directory: c:\\users\\kunal\\appdata\\local\\pip\\cache\\wheels\\8d\\12\\e5\\1f1048ae7f02f8daa062873211eb7f8c5fcf982d97d352b86d\n",
      "Successfully built pandoc\n",
      "Installing collected packages: ply, plumbum, pandoc\n",
      "Successfully installed pandoc-2.4 plumbum-1.9.0 ply-3.11\n"
     ]
    }
   ],
   "source": [
    "!pip install pandoc"
   ]
  },
  {
   "cell_type": "code",
   "execution_count": null,
   "id": "fbc5d61e-4425-4e81-ae07-61931ebf060f",
   "metadata": {},
   "outputs": [],
   "source": []
  }
 ],
 "metadata": {
  "kernelspec": {
   "display_name": "Python 3 (ipykernel)",
   "language": "python",
   "name": "python3"
  },
  "language_info": {
   "codemirror_mode": {
    "name": "ipython",
    "version": 3
   },
   "file_extension": ".py",
   "mimetype": "text/x-python",
   "name": "python",
   "nbconvert_exporter": "python",
   "pygments_lexer": "ipython3",
   "version": "3.13.1"
  }
 },
 "nbformat": 4,
 "nbformat_minor": 5
}
