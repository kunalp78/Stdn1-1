{
 "cells": [
  {
   "cell_type": "code",
   "execution_count": 1,
   "id": "686e6488-123f-4888-9397-e2524aecb6bc",
   "metadata": {},
   "outputs": [],
   "source": [
    "a = \"pratibha\""
   ]
  },
  {
   "cell_type": "markdown",
   "id": "92078271-a7be-4715-8a8f-e196220ac6f4",
   "metadata": {},
   "source": [
    "## Rules to define a variable"
   ]
  },
  {
   "cell_type": "markdown",
   "id": "d6d0c132-925b-4922-9446-1b4ad09094cd",
   "metadata": {},
   "source": [
    "### * It should start with letters\n",
    "### * It can start with underscore\n",
    "### * It can only contain numbers, letters and underscore"
   ]
  },
  {
   "cell_type": "raw",
   "id": "321c0751-d525-4342-9b71-4eae89445507",
   "metadata": {},
   "source": [
    "a-d   X\n",
    "a_d   Y\n",
    "_ad   Y\n",
    "ad_   Y\n",
    "__    Y\n",
    "__ad  Y\n",
    "ad1   Y\n",
    "a1d   Y\n",
    "1ad   X\n",
    "@ad   X\n",
    "ad@   X\n",
    "ad#   X\n",
    "#ad   X"
   ]
  },
  {
   "cell_type": "code",
   "execution_count": null,
   "id": "4da91701-87f8-48e2-aea9-ee332ad2bdcb",
   "metadata": {},
   "outputs": [],
   "source": [
    "we would be making decisions?? Yes\n",
    "certain variatin of syntax we would be seeing:\n",
    "    1) Conditional statement\n",
    "    2) functions\n",
    "    3) classes"
   ]
  },
  {
   "cell_type": "raw",
   "id": "3a6bc748-c906-487e-8fb0-5164d62f2403",
   "metadata": {},
   "source": [
    "1) Conditional statement"
   ]
  },
  {
   "cell_type": "code",
   "execution_count": null,
   "id": "22c413e6-2876-4f80-abaa-bbd450262f1a",
   "metadata": {},
   "outputs": [],
   "source": [
    "# syntax of conditional statement\n",
    "example:\n",
    "    if <condition>:\n",
    "        #statements\n",
    "\n",
    "variations of conditional statements:\n",
    "        1) if condition\n",
    "        2) if else condition\n",
    "        3) if else ladder\n",
    "                a) if <conditon1>:\n",
    "                        # statement 1\n",
    "                   elif <conditiion 2>:\n",
    "                        # statement 2\n",
    "                   elif <condition 3>:\n",
    "                        # statement 3\n",
    "                   else:\n",
    "                        # condition defaut\n",
    "        4) nested if else\n",
    "                if, if else or if else ladder\n",
    "        5) match case:\n",
    "                match <condition>:\n",
    "                case 1:\n",
    "                    #statement\n",
    "                case 2:\n",
    "                    #statement 2\n",
    "                ...\n",
    "\n",
    "                case _:\n",
    "                    #statement"
   ]
  },
  {
   "cell_type": "code",
   "execution_count": 7,
   "id": "d0242d83-7a80-4c84-897e-61bd8841fd4d",
   "metadata": {},
   "outputs": [
    {
     "name": "stdin",
     "output_type": "stream",
     "text": [
      "Enter the operator:  548\n"
     ]
    }
   ],
   "source": [
    "# calculator\n",
    "num1 = 25\n",
    "num2 = 20\n",
    "\n",
    "operator = input(\"Enter the operator: \")"
   ]
  },
  {
   "cell_type": "code",
   "execution_count": 9,
   "id": "35386da7-3a5f-442e-815e-0692662bd0c7",
   "metadata": {},
   "outputs": [
    {
     "name": "stdout",
     "output_type": "stream",
     "text": [
      "null\n"
     ]
    }
   ],
   "source": [
    "match operator:\n",
    "    case \"add\":\n",
    "        print(\"running addition\")\n",
    "        result = num1 + num2\n",
    "    case \"sub\":\n",
    "        print(\"running subtraction\")\n",
    "        result = num1 - num2\n",
    "    case \"power\":\n",
    "        print(\"running power\")\n",
    "        result = num1 ** num2\n",
    "    case _:\n",
    "        result = \"null\"\n",
    "print(result)"
   ]
  },
  {
   "cell_type": "code",
   "execution_count": 11,
   "id": "580e0f11-7b6c-4e9d-ac11-37ace6051c58",
   "metadata": {},
   "outputs": [
    {
     "name": "stdout",
     "output_type": "stream",
     "text": [
      "4.5\n"
     ]
    }
   ],
   "source": [
    "# Type conversion\n",
    "a = 2\n",
    "b = 2.5\n",
    "c = a + b\n",
    "print(c)"
   ]
  },
  {
   "cell_type": "code",
   "execution_count": 12,
   "id": "dbf5b2c3-aa67-41ad-910c-6e6781de9808",
   "metadata": {},
   "outputs": [
    {
     "ename": "TypeError",
     "evalue": "unsupported operand type(s) for +: 'int' and 'str'",
     "output_type": "error",
     "traceback": [
      "\u001b[1;31m---------------------------------------------------------------------------\u001b[0m",
      "\u001b[1;31mTypeError\u001b[0m                                 Traceback (most recent call last)",
      "Cell \u001b[1;32mIn[12], line 3\u001b[0m\n\u001b[0;32m      1\u001b[0m a \u001b[38;5;241m=\u001b[39m \u001b[38;5;241m2\u001b[39m\n\u001b[0;32m      2\u001b[0m b \u001b[38;5;241m=\u001b[39m \u001b[38;5;124m\"\u001b[39m\u001b[38;5;124m5\u001b[39m\u001b[38;5;124m\"\u001b[39m\n\u001b[1;32m----> 3\u001b[0m c  \u001b[38;5;241m=\u001b[39m\u001b[43ma\u001b[49m\u001b[43m \u001b[49m\u001b[38;5;241;43m+\u001b[39;49m\u001b[43m \u001b[49m\u001b[43mb\u001b[49m\n",
      "\u001b[1;31mTypeError\u001b[0m: unsupported operand type(s) for +: 'int' and 'str'"
     ]
    }
   ],
   "source": [
    "a = 2\n",
    "b = \"5\"\n",
    "c  =a + b"
   ]
  },
  {
   "cell_type": "code",
   "execution_count": 13,
   "id": "65cf8b2a-9a0c-41bc-82da-b41301eed94a",
   "metadata": {},
   "outputs": [
    {
     "data": {
      "text/plain": [
       "2"
      ]
     },
     "execution_count": 13,
     "metadata": {},
     "output_type": "execute_result"
    }
   ],
   "source": [
    "b = 2.5\n",
    "int(b)"
   ]
  },
  {
   "cell_type": "code",
   "execution_count": 14,
   "id": "4505637f-d013-4c96-8fec-6f01dc360a88",
   "metadata": {},
   "outputs": [
    {
     "data": {
      "text/plain": [
       "['a', 'b']"
      ]
     },
     "execution_count": 14,
     "metadata": {},
     "output_type": "execute_result"
    }
   ],
   "source": [
    "d = {\"a\": 55, \"b\": 63}\n",
    "list(d) # <---- data loss while type casting"
   ]
  },
  {
   "attachments": {
    "222e1591-010b-4971-b478-d12b8a1a58b4.png": {
     "image/png": "[encoded data removed]"
    }
   },
   "cell_type": "markdown",
   "id": "080f3141-f7c9-4c75-b556-41fb66f08c0a",
   "metadata": {},
   "source": [
    "![image.png](attachment:222e1591-010b-4971-b478-d12b8a1a58b4.png)"
   ]
  },
  {
   "cell_type": "markdown",
   "id": "cac63f78-ac00-4276-becf-2bf6ffee8a61",
   "metadata": {},
   "source": [
    "### Output Formatting"
   ]
  },
  {
   "cell_type": "code",
   "execution_count": 15,
   "id": "2d45c2d5-82ce-4921-97a8-c29a2ae241b8",
   "metadata": {},
   "outputs": [
    {
     "name": "stdout",
     "output_type": "stream",
     "text": [
      "My name is pratibha\n",
      "I am going to Rakuten.\n",
      "I am an HR in the Japanese company\n"
     ]
    }
   ],
   "source": [
    "print(\"My name is pratibha\")\n",
    "print(\"I am going to Rakuten.\")\n",
    "print(\"I am an HR in the Japanese company\")"
   ]
  },
  {
   "cell_type": "code",
   "execution_count": 18,
   "id": "03fda9f3-ada1-467a-9fa3-ffa8ec7d36bf",
   "metadata": {},
   "outputs": [
    {
     "name": "stdout",
     "output_type": "stream",
     "text": [
      "My name is Pratibha\n",
      "I am going to Rakuten\n"
     ]
    }
   ],
   "source": [
    "# \\n --> New line character\n",
    "print(\"My name is Pratibha\\nI am going to Rakuten\")"
   ]
  },
  {
   "cell_type": "code",
   "execution_count": 21,
   "id": "a2bde4b8-60d0-48c4-a1e6-d4c1a5089cc4",
   "metadata": {},
   "outputs": [
    {
     "name": "stdout",
     "output_type": "stream",
     "text": [
      "My nme is Pratibha\n",
      "        I am going to Rakuten\n"
     ]
    }
   ],
   "source": [
    "print(\"My nme is Pratibha\\n        I am going to Rakuten\")"
   ]
  },
  {
   "cell_type": "code",
   "execution_count": 20,
   "id": "dea1ba0d-feb0-4908-b350-fcf7f4325d8e",
   "metadata": {},
   "outputs": [
    {
     "name": "stdout",
     "output_type": "stream",
     "text": [
      "My name is Pratibha.\n",
      "\tI am going to Rakuten\n"
     ]
    }
   ],
   "source": [
    "# \\t --> tab\n",
    "print(\"My name is Pratibha.\\n\\tI am going to Rakuten\")"
   ]
  },
  {
   "cell_type": "code",
   "execution_count": 22,
   "id": "9293913c-0b6d-4d67-8793-7f8e5d430fc5",
   "metadata": {},
   "outputs": [
    {
     "name": "stdout",
     "output_type": "stream",
     "text": [
      "pratibhapratibhapratibhapratibhapratibhapratibhapratibhapratibhapratibhapratibha\n"
     ]
    }
   ],
   "source": [
    "a = \"pratibha\" * 10\n",
    "print(a)"
   ]
  },
  {
   "cell_type": "code",
   "execution_count": 23,
   "id": "9a731ddb-d64d-49bc-b6d2-1e95bb5bf12d",
   "metadata": {},
   "outputs": [
    {
     "name": "stdin",
     "output_type": "stream",
     "text": [
      "Enter the operator:  add\n"
     ]
    },
    {
     "name": "stdout",
     "output_type": "stream",
     "text": [
      "running addition\n",
      "Your result is: 45\n"
     ]
    }
   ],
   "source": [
    "# f-string\n",
    "# calculator\n",
    "num1 = 25\n",
    "num2 = 20\n",
    "\n",
    "operator = input(\"Enter the operator: \")\n",
    "match operator:\n",
    "    case \"add\":\n",
    "        print(\"running addition\")\n",
    "        result = num1 + num2\n",
    "    case \"sub\":\n",
    "        print(\"running subtraction\")\n",
    "        result = num1 - num2\n",
    "    case \"power\":\n",
    "        print(\"running power\")\n",
    "        result = num1 ** num2\n",
    "    case _:\n",
    "        result = \"null\"\n",
    "print(f\"Your result is: {result}\")"
   ]
  },
  {
   "cell_type": "code",
   "execution_count": 24,
   "id": "fb102472-20dc-41ae-8d28-92326f8a4bb7",
   "metadata": {},
   "outputs": [
    {
     "name": "stdout",
     "output_type": "stream",
     "text": [
      "Your result is:  45\n"
     ]
    }
   ],
   "source": [
    "print(\"Your result is: \", result)"
   ]
  },
  {
   "cell_type": "code",
   "execution_count": 25,
   "id": "954743ff-671f-4e71-9d83-4e79c647b8d1",
   "metadata": {},
   "outputs": [
    {
     "name": "stdout",
     "output_type": "stream",
     "text": [
      "Your result is: 45\n"
     ]
    }
   ],
   "source": [
    "print(\"Your result is: {}\".format(result))"
   ]
  },
  {
   "cell_type": "code",
   "execution_count": null,
   "id": "71813922-41f2-45b6-82d6-c4a74ac110e0",
   "metadata": {},
   "outputs": [],
   "source": []
  }
 ],
 "metadata": {
  "kernelspec": {
   "display_name": "Python 3 (ipykernel)",
   "language": "python",
   "name": "python3"
  },
  "language_info": {
   "codemirror_mode": {
    "name": "ipython",
    "version": 3
   },
   "file_extension": ".py",
   "mimetype": "text/x-python",
   "name": "python",
   "nbconvert_exporter": "python",
   "pygments_lexer": "ipython3",
   "version": "3.13.1"
  }
 },
 "nbformat": 4,
 "nbformat_minor": 5
}
